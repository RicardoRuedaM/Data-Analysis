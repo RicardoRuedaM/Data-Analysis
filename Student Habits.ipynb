{
 "cells": [
  {
   "cell_type": "markdown",
   "id": "fd89d6dc-afff-4e21-82af-62337d00c1ed",
   "metadata": {},
   "source": [
    "# 📚 Project Overview: Student Habits & Academic Performance\n",
    "\n",
    "Introduction.\n",
    "\n",
    "This project explores how various lifestyle habits influence academic outcomes in students. Using a simulated dataset of 1,000 students, the goal is to uncover patterns and correlations between behaviors like studying, sleeping, screen time, and physical activity — and their impact on exam performance and mental health.\n",
    "\n",
    "Preparing the enviroment:"
   ]
  },
  {
   "cell_type": "code",
   "execution_count": 3,
   "id": "e9e98377-32ca-447a-b7b8-40d9cc2592fe",
   "metadata": {},
   "outputs": [],
   "source": [
    "import pandas as pd"
   ]
  },
  {
   "cell_type": "code",
   "execution_count": null,
   "id": "41d1d0d9-c12c-4ef1-b562-1c5ca7932f63",
   "metadata": {},
   "outputs": [],
   "source": []
  }
 ],
 "metadata": {
  "kernelspec": {
   "display_name": "Python [conda env:base] *",
   "language": "python",
   "name": "conda-base-py"
  },
  "language_info": {
   "codemirror_mode": {
    "name": "ipython",
    "version": 3
   },
   "file_extension": ".py",
   "mimetype": "text/x-python",
   "name": "python",
   "nbconvert_exporter": "python",
   "pygments_lexer": "ipython3",
   "version": "3.12.7"
  }
 },
 "nbformat": 4,
 "nbformat_minor": 5
}
